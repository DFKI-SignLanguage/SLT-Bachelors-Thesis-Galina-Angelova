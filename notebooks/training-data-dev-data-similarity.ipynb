{
 "cells": [
  {
   "cell_type": "markdown",
   "metadata": {},
   "source": [
    "#### This is a script to check how similar are the training and the dev sets"
   ]
  },
  {
   "cell_type": "code",
   "execution_count": 1,
   "metadata": {},
   "outputs": [],
   "source": [
    "#imports \n",
    "import pandas as pd \n",
    "import csv \n",
    "import re \n",
    "from pathlib import Path \n",
    "from tqdm import tqdm "
   ]
  },
  {
   "cell_type": "markdown",
   "metadata": {},
   "source": [
    "<hr style=\"border:1.0px solid gray\"></hr> \n",
    "\n",
    "#### Define in/out files \n",
    "    \n",
    "<hr style=\"border:1.0px solid gray\"></hr> "
   ]
  },
  {
   "cell_type": "code",
   "execution_count": 19,
   "metadata": {},
   "outputs": [],
   "source": [
    "dgs_dir = Path('path')\n",
    "\n",
    "glosses_stem_train = dgs_dir / 'glosses_stem_train.txt'\n",
    "glosses_stem_dev = dgs_dir / 'glosses_stem_dev.txt'\n",
    "\n",
    "glosses_train = dgs_dir / 'glosses_train.txt'\n",
    "glosses_dev = dgs_dir / 'glosses_dev.txt' \n",
    "\n",
    "dgs_stripped_train = dgs_dir / 'german_stripped_train.txt' \n",
    "dgs_stripped_dev = dgs_dir / 'german_stripped_dev.txt'\n",
    "\n",
    "###############################################################\n",
    "\n",
    "phoenix_dir = Path('path')\n",
    "\n",
    "phoenix_train = phoenix_dir / 'phoenix_train_glosses.txt'\n",
    "phoenix_dev = phoenix_dir / 'phoenix_dev_glosses.txt' \n",
    "\n",
    "phoenix_sentences_train = phoenix_dir / 'phoenix_train_sentences.txt' \n",
    "phoenix_sentences_dev = phoenix_dir / 'phoenix_dev_sentences.txt' \n",
    "\n",
    "###############################################################\n",
    "\n",
    "assert glosses_stem_train.exists(), 'dgs training set not found'\n",
    "assert glosses_stem_dev.exists(), 'dgs dev set not found'\n",
    "assert phoenix_train.exists(), 'phoenix training set not found'\n",
    "assert phoenix_dev.exists(), 'phoenix dev set not found' "
   ]
  },
  {
   "cell_type": "code",
   "execution_count": 6,
   "metadata": {},
   "outputs": [],
   "source": [
    "line = \"This is a sentence\""
   ]
  },
  {
   "cell_type": "code",
   "execution_count": 7,
   "metadata": {},
   "outputs": [
    {
     "data": {
      "text/plain": [
       "['This', 'is', 'a', 'sentence']"
      ]
     },
     "execution_count": 7,
     "metadata": {},
     "output_type": "execute_result"
    }
   ],
   "source": [
    "line.split()"
   ]
  },
  {
   "cell_type": "code",
   "execution_count": 9,
   "metadata": {},
   "outputs": [],
   "source": [
    "def make_gloss_set(in_txt):\n",
    "    glosses_df = pd.read_csv(in_txt, header=None)\n",
    "    list_of_gloss_sentences = glosses_df[0].tolist()\n",
    "    \n",
    "    list_of_glosses = []\n",
    "    \n",
    "    for sentence in list_of_gloss_sentences:\n",
    "        for gloss in str(sentence).split():\n",
    "            list_of_glosses.append(gloss)\n",
    "    \n",
    "    len_list = len(list_of_glosses)\n",
    "    set_of_glosses = set(list_of_glosses)\n",
    "    len_set = len(set_of_glosses)\n",
    "    return(set_of_glosses, len_list, len_set) "
   ]
  },
  {
   "cell_type": "markdown",
   "metadata": {},
   "source": [
    "#### Phoenix training set has 55 247 glosses and 1085 of them are unique. "
   ]
  },
  {
   "cell_type": "markdown",
   "metadata": {},
   "source": [
    "#### Phoenix dev set has 3 748 glosses and 393 of them are unique."
   ]
  },
  {
   "cell_type": "markdown",
   "metadata": {},
   "source": [
    "#### Overlap of the training and dev set of Phoenix is 381 glosses."
   ]
  },
  {
   "cell_type": "markdown",
   "metadata": {},
   "source": [
    "---"
   ]
  },
  {
   "cell_type": "markdown",
   "metadata": {},
   "source": [
    "#### DGS training set has 301 772 glosses and 4 559 of them are unique."
   ]
  },
  {
   "cell_type": "markdown",
   "metadata": {},
   "source": [
    "#### DGS dev set has 21 715 glosses and 1909 of them are unique."
   ]
  },
  {
   "cell_type": "markdown",
   "metadata": {},
   "source": [
    "#### Overlap of training and dev set of the stemmed DGS glosses is 1845 glosses."
   ]
  },
  {
   "cell_type": "markdown",
   "metadata": {},
   "source": [
    "---"
   ]
  },
  {
   "cell_type": "markdown",
   "metadata": {},
   "source": [
    "#### DGS original training set has 301 772 glosses and 19 521 of them are unique."
   ]
  },
  {
   "cell_type": "markdown",
   "metadata": {},
   "source": [
    "#### DGS original dev set has 21 715 glosses and 4 891 of them are unique."
   ]
  },
  {
   "cell_type": "code",
   "execution_count": 52,
   "metadata": {},
   "outputs": [],
   "source": [
    "dgs_original_overlap = list(make_gloss_set(glosses_train)[0] & make_gloss_set(glosses_dev)[0])  "
   ]
  },
  {
   "cell_type": "code",
   "execution_count": 54,
   "metadata": {},
   "outputs": [
    {
     "data": {
      "text/plain": [
       "4418"
      ]
     },
     "execution_count": 54,
     "metadata": {},
     "output_type": "execute_result"
    }
   ],
   "source": [
    "len(dgs_original_overlap)"
   ]
  },
  {
   "cell_type": "markdown",
   "metadata": {},
   "source": [
    "#### Overlap of original training and dev set of DGS is 4418 glosses."
   ]
  },
  {
   "cell_type": "code",
   "execution_count": null,
   "metadata": {},
   "outputs": [],
   "source": []
  }
 ],
 "metadata": {
  "kernelspec": {
   "display_name": "Python 3",
   "language": "python",
   "name": "python3"
  },
  "language_info": {
   "codemirror_mode": {
    "name": "ipython",
    "version": 3
   },
   "file_extension": ".py",
   "mimetype": "text/x-python",
   "name": "python",
   "nbconvert_exporter": "python",
   "pygments_lexer": "ipython3",
   "version": "3.7.6"
  }
 },
 "nbformat": 4,
 "nbformat_minor": 4
}
